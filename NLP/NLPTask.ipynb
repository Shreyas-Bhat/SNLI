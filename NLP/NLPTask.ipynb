{
  "nbformat": 4,
  "nbformat_minor": 0,
  "metadata": {
    "accelerator": "TPU",
    "colab": {
      "name": "NLPTask.ipynb",
      "provenance": []
    },
    "kernelspec": {
      "display_name": "Python 3",
      "name": "python3"
    },
    "language_info": {
      "name": "python"
    }
  },
  "cells": [
    {
      "cell_type": "code",
      "metadata": {
        "colab": {
          "base_uri": "https://localhost:8080/"
        },
        "id": "nyA_n63gqa8E",
        "outputId": "91c61e17-4dee-462e-ea0a-d1e7353ca103"
      },
      "source": [
        "from google.colab import drive\n",
        "drive.mount('/content/drive')"
      ],
      "execution_count": 1,
      "outputs": [
        {
          "output_type": "stream",
          "text": [
            "Mounted at /content/drive\n"
          ],
          "name": "stdout"
        }
      ]
    },
    {
      "cell_type": "code",
      "metadata": {
        "id": "1K5Wi35VqQdh"
      },
      "source": [
        "\n",
        "import os, sys, random, itertools, codecs\n",
        "import json\n",
        "import re\n",
        "import tarfile\n",
        "import tempfile\n",
        "import numpy as np\n",
        "import keras\n",
        "import keras.backend as K\n",
        "from keras.callbacks import EarlyStopping, ModelCheckpoint\n",
        "from keras.layers import merge, recurrent, Dense, Input, Dropout, TimeDistributed\n",
        "from keras.layers.embeddings import Embedding\n",
        "from keras.layers.normalization import BatchNormalization\n",
        "from keras.layers.wrappers import Bidirectional\n",
        "from keras.models import Model\n",
        "from keras.preprocessing.sequence import pad_sequences\n",
        "from keras.preprocessing.text import Tokenizer\n",
        "from keras.regularizers import l2\n",
        "from keras.utils import np_utils"
      ],
      "execution_count": 2,
      "outputs": []
    },
    {
      "cell_type": "code",
      "metadata": {
        "id": "TZVTcBdoqR2S"
      },
      "source": [
        "#extracting data\n",
        "def extract_tokens_from_binary_parse(parse):\n",
        "    return parse.replace('(', ' ').replace(')', ' ').replace('-LRB-', '(').replace('-RRB-', ')').split()\n",
        "\n",
        "def yield_examples(fn, skip_no_majority=True, limit=None):\n",
        "      for i, line in enumerate(codecs.open(fn, encoding='utf-8')):\n",
        "        if limit and i > limit: break\n",
        "        data = json.loads(line)\n",
        "        label = data['gold_label']\n",
        "        s1 = ' '.join(extract_tokens_from_binary_parse(data['sentence1_binary_parse']))\n",
        "        s2 = ' '.join(extract_tokens_from_binary_parse(data['sentence2_binary_parse']))\n",
        "        if skip_no_majority and label == '-': continue\n",
        "        yield (label, s1, s2)\n",
        "\n",
        "def get_data(fn, limit=None):\n",
        "    fn = os.path.join('snli/snli_1.0',fn)\n",
        "    raw_data = list(yield_examples(fn=fn, limit=limit))\n",
        "    left = [s1 for _, s1, s2 in raw_data]\n",
        "    right = [s2 for _, s1, s2 in raw_data]\n",
        "    print(max(len(x.split()) for x in left))\n",
        "    print(max(len(x.split()) for x in right))\n",
        "\n",
        "    LABELS = {'contradiction': 0, 'neutral': 1, 'entailment': 2}\n",
        "    Y = np.array([LABELS[l] for l, s1, s2 in raw_data])\n",
        "    Y = np_utils.to_categorical(Y, len(LABELS))\n",
        "\n",
        "    return left, right, Y"
      ],
      "execution_count": 3,
      "outputs": []
    },
    {
      "cell_type": "code",
      "metadata": {
        "colab": {
          "base_uri": "https://localhost:8080/"
        },
        "id": "ascbCIjrqUUR",
        "outputId": "32722ebe-1f63-4741-fbe1-aba5c80c1d2d"
      },
      "source": [
        "training = get_data('/content/drive/MyDrive/snli_1.0/snli_1.0_train.jsonl')\n",
        "validation = get_data('/content/drive/MyDrive/snli_1.0/snli_1.0_dev.jsonl')\n",
        "test = get_data('/content/drive/MyDrive/snli_1.0/snli_1.0_test.jsonl')"
      ],
      "execution_count": 14,
      "outputs": [
        {
          "output_type": "stream",
          "text": [
            "82\n",
            "62\n",
            "59\n",
            "55\n",
            "57\n",
            "30\n"
          ],
          "name": "stdout"
        }
      ]
    },
    {
      "cell_type": "code",
      "metadata": {
        "colab": {
          "base_uri": "https://localhost:8080/"
        },
        "id": "0K7pCF_kqYjY",
        "outputId": "46ba2d46-1058-4835-9d7a-b23b3bc5fb91"
      },
      "source": [
        "tokenizer = Tokenizer(lower=False, filters='')\n",
        "tokenizer.fit_on_texts(training[0] + training[1])\n",
        "# Lowest index from the tokenizer is 1 - we need to include 0 in our vocab count\n",
        "VOCAB = len(tokenizer.word_counts) + 1\n",
        "LABELS = {'contradiction': 0, 'neutral': 1, 'entailment': 2}\n",
        "# Summation of word embeddings\n",
        "RNN = recurrent.LSTM\n",
        "LAYERS = 1\n",
        "USE_GLOVE = True\n",
        "TRAIN_EMBED = False\n",
        "EMBED_HIDDEN_SIZE = 300\n",
        "SENT_HIDDEN_SIZE = 300\n",
        "BATCH_SIZE = 1000\n",
        "PATIENCE = 4 # 8\n",
        "MAX_EPOCHS = 10\n",
        "MAX_LEN = 42\n",
        "DP = 0.2\n",
        "ACTIVATION = 'relu'\n",
        "print('RNN / Embed / Sent = {}, {}, {}'.format(RNN, EMBED_HIDDEN_SIZE, SENT_HIDDEN_SIZE))\n",
        "print('GloVe / Trainable Word Embeddings = {}, {}'.format(USE_GLOVE, TRAIN_EMBED))"
      ],
      "execution_count": 15,
      "outputs": [
        {
          "output_type": "stream",
          "text": [
            "RNN / Embed / Sent = <class 'keras.layers.recurrent.LSTM'>, 300, 300\n",
            "GloVe / Trainable Word Embeddings = True, False\n"
          ],
          "name": "stdout"
        }
      ]
    },
    {
      "cell_type": "code",
      "metadata": {
        "id": "T3D2e55Cqlf4"
      },
      "source": [
        "to_seq = lambda X: pad_sequences(tokenizer.texts_to_sequences(X), maxlen=MAX_LEN)\n",
        "prepare_data = lambda data: (to_seq(data[0]), to_seq(data[1]), data[2])\n",
        "\n",
        "training = prepare_data(training)\n",
        "validation = prepare_data(validation)\n",
        "test = prepare_data(test)\n",
        "from keras.callbacks import EarlyStopping, ModelCheckpoint\n",
        "from keras.layers import merge, recurrent, Dense, Input, Dropout, TimeDistributed, concatenate\n",
        "from keras.layers.embeddings import Embedding\n",
        "from keras.layers.normalization import BatchNormalization\n",
        "from keras.layers.wrappers import Bidirectional\n",
        "from keras.models import Model\n",
        "from keras.preprocessing.sequence import pad_sequences\n",
        "from keras.preprocessing.text import Tokenizer\n",
        "from keras.regularizers import l2\n",
        "from keras.layers.recurrent import LSTM\n",
        "from keras.utils import np_utils\n",
        "from tensorflow.keras.optimizers import Adam\n",
        "import numpy as np\n",
        "# Parameters\n",
        "MAX_SEQ_LEN = 42\n",
        "LSTM_UNITS = 64\n",
        "\n",
        "VOCAB_SIZE = 20000\n",
        "EMBEDDING_DIM = 100\n",
        "EMBED_HIDDEN_SIZE = 100\n",
        "SENT_HIDDEN_SIZE = 100\n",
        "TRAIN_EMBED = False\n",
        "\n",
        "L2 = 4e-6\n",
        "ACTIVATION = 'relu'\n",
        "DROPOUT = 0.2\n",
        "\n",
        "RHO = 0.9\n",
        "EPSILON = 1e-08\n",
        "DECAY = 0.0\n",
        "\n",
        "BATCH_SIZE = 512\n",
        "TRAINING_EPOCHS = 50\n",
        "VALIDATION_SPLIT = 0.02\n",
        "\n",
        "PATIENCE = 4"
      ],
      "execution_count": 16,
      "outputs": []
    },
    {
      "cell_type": "code",
      "metadata": {
        "colab": {
          "base_uri": "https://localhost:8080/"
        },
        "id": "eSM8nVQ6rlbU",
        "outputId": "3af02529-c43c-429d-8bca-40dcfc68d0f6"
      },
      "source": [
        "\n",
        "GLOVE_STORE = 'precomputed_glove.weights'\n",
        "if USE_GLOVE:\n",
        "    if not os.path.exists(GLOVE_STORE + '.npy'):\n",
        "        print('Computing GloVe')\n",
        "\n",
        "        embeddings_index = {}\n",
        "        with open(os.path.join('/content/drive/MyDrive/glove/glove.6B.100d.txt')) as f:\n",
        "            for line in f:\n",
        "                values = line.split(' ')\n",
        "                word = values[0]\n",
        "                coefs = np.asarray(values[1:], dtype='float32')\n",
        "                embeddings_index[word] = coefs\n",
        "\n",
        "        # prepare embedding matrix\n",
        "        embedding_matrix = np.zeros((VOCAB, EMBED_HIDDEN_SIZE))\n",
        "        for word, i in tokenizer.word_index.items():\n",
        "            embedding_vector = embeddings_index.get(word)\n",
        "            if embedding_vector is not None:\n",
        "                # words not found in embedding index will be all-zeros.\n",
        "                embedding_matrix[i] = embedding_vector\n",
        "            else:\n",
        "                print('Missing from GloVe: {}'.format(word))\n",
        "  \n",
        "        np.save(GLOVE_STORE, embedding_matrix)\n",
        "\n",
        "    print('Loading GloVe')\n",
        "    embedding_matrix = np.load(GLOVE_STORE + '.npy')\n",
        "\n",
        "    print('Total number of null word embeddings:')\n",
        "    print(np.sum(np.sum(embedding_matrix, axis=1) == 0))\n",
        "\n",
        "    embed = Embedding(VOCAB, EMBED_HIDDEN_SIZE, weights=[embedding_matrix], input_length=MAX_LEN, trainable=TRAIN_EMBED)\n",
        "BiLSTM = Bidirectional(LSTM(LSTM_UNITS))\n",
        "\n",
        "# Define the input layers and its shapes for premise and hypothesis\n",
        "premise = Input(shape=(42,), dtype='int32')\n",
        "hypothesis = Input(shape=(42,), dtype='int32')\n",
        "\n",
        "# Embed the premise and hypothesis\n",
        "premise_embedded = embed(premise)\n",
        "hypothesis_embedded = embed(hypothesis)\n",
        "# Apply the bidirectional LSTM layer\n",
        "premise_BiLSTM = BiLSTM(premise_embedded)\n",
        "hypothesis_BiLSTM = BiLSTM(hypothesis_embedded)\n",
        "\n",
        "# Apply Batch normalization\n",
        "premise_normalized = BatchNormalization()(premise_BiLSTM)\n",
        "hypothesis_normalized = BatchNormalization()(hypothesis_BiLSTM)\n",
        "\n",
        "# Concatenate the normalized premise and hypothesis and apply a dropout layer\n",
        "train_input = concatenate([premise_normalized, hypothesis_normalized])\n",
        "train_input = Dropout(0.2)(train_input)\n",
        "\n",
        "# Apply the (Dense layer, Dropout layer. Batch normalization layer)\n",
        "\n",
        "train_input = Dense(2 * SENT_HIDDEN_SIZE, activation='relu', kernel_regularizer=l2(L2))(train_input)\n",
        "train_input = Dropout(0.2)(train_input)\n",
        "train_input = Dense(SENT_HIDDEN_SIZE, activation='relu')(train_input)\n",
        "train_input = BatchNormalization()(train_input)\n",
        "# Define the output Dense layer\n",
        "prediction = Dense(3, activation='softmax')(train_input)\n",
        "\n",
        "# Define the complete model\n",
        "model = Model(inputs=[premise, hypothesis], outputs=prediction)\n",
        "\n",
        "# Compile the model and print out the model summary\n",
        "model.compile(optimizer=Adam(learning_rate=0.001), loss='categorical_crossentropy', metrics=['accuracy'])\n",
        "model.summary()"
      ],
      "execution_count": 17,
      "outputs": [
        {
          "output_type": "stream",
          "text": [
            "Loading GloVe\n",
            "Total number of null word embeddings:\n",
            "16475\n",
            "Model: \"model_1\"\n",
            "__________________________________________________________________________________________________\n",
            "Layer (type)                    Output Shape         Param #     Connected to                     \n",
            "==================================================================================================\n",
            "input_3 (InputLayer)            [(None, 42)]         0                                            \n",
            "__________________________________________________________________________________________________\n",
            "input_4 (InputLayer)            [(None, 42)]         0                                            \n",
            "__________________________________________________________________________________________________\n",
            "embedding_1 (Embedding)         (None, 42, 100)      4239100     input_3[0][0]                    \n",
            "                                                                 input_4[0][0]                    \n",
            "__________________________________________________________________________________________________\n",
            "bidirectional_1 (Bidirectional) (None, 128)          84480       embedding_1[0][0]                \n",
            "                                                                 embedding_1[1][0]                \n",
            "__________________________________________________________________________________________________\n",
            "batch_normalization_3 (BatchNor (None, 128)          512         bidirectional_1[0][0]            \n",
            "__________________________________________________________________________________________________\n",
            "batch_normalization_4 (BatchNor (None, 128)          512         bidirectional_1[1][0]            \n",
            "__________________________________________________________________________________________________\n",
            "concatenate_1 (Concatenate)     (None, 256)          0           batch_normalization_3[0][0]      \n",
            "                                                                 batch_normalization_4[0][0]      \n",
            "__________________________________________________________________________________________________\n",
            "dropout_2 (Dropout)             (None, 256)          0           concatenate_1[0][0]              \n",
            "__________________________________________________________________________________________________\n",
            "dense_3 (Dense)                 (None, 200)          51400       dropout_2[0][0]                  \n",
            "__________________________________________________________________________________________________\n",
            "dropout_3 (Dropout)             (None, 200)          0           dense_3[0][0]                    \n",
            "__________________________________________________________________________________________________\n",
            "dense_4 (Dense)                 (None, 100)          20100       dropout_3[0][0]                  \n",
            "__________________________________________________________________________________________________\n",
            "batch_normalization_5 (BatchNor (None, 100)          400         dense_4[0][0]                    \n",
            "__________________________________________________________________________________________________\n",
            "dense_5 (Dense)                 (None, 3)            303         batch_normalization_5[0][0]      \n",
            "==================================================================================================\n",
            "Total params: 4,396,807\n",
            "Trainable params: 156,995\n",
            "Non-trainable params: 4,239,812\n",
            "__________________________________________________________________________________________________\n"
          ],
          "name": "stdout"
        }
      ]
    },
    {
      "cell_type": "code",
      "metadata": {
        "id": "H9bOriF5ckwV"
      },
      "source": [
        "import string\n",
        "from nltk.tokenize.treebank import TreebankWordTokenizer\n",
        "tokenizer = TreebankWordTokenizer()"
      ],
      "execution_count": 8,
      "outputs": []
    },
    {
      "cell_type": "code",
      "metadata": {
        "colab": {
          "base_uri": "https://localhost:8080/"
        },
        "id": "DOvexcysroJN",
        "outputId": "4af6c644-125f-4510-f7a7-57928321e4f3"
      },
      "source": [
        "\n",
        "# Save the best model during validation and bail out of training early if we're not improving\n",
        "# callbacks = [EarlyStopping(patience=PATIENCE), ModelCheckpoint(tmpfn, save_best_only=True, save_weights_only=True)]\n",
        "history = model.fit([training[0], training[1]], training[2], batch_size=BATCH_SIZE, epochs =10, validation_data=([validation[0], validation[1]], validation[2]))\n"
      ],
      "execution_count": 18,
      "outputs": [
        {
          "output_type": "stream",
          "text": [
            "Epoch 1/10\n",
            "1073/1073 [==============================] - 1116s 1s/step - loss: 0.9930 - accuracy: 0.5261 - val_loss: 0.7767 - val_accuracy: 0.6550\n",
            "Epoch 2/10\n",
            "1073/1073 [==============================] - 1081s 1s/step - loss: 0.7870 - accuracy: 0.6524 - val_loss: 0.7209 - val_accuracy: 0.6861\n",
            "Epoch 3/10\n",
            "1073/1073 [==============================] - 1052s 981ms/step - loss: 0.7300 - accuracy: 0.6847 - val_loss: 0.6857 - val_accuracy: 0.7108\n",
            "Epoch 4/10\n",
            "1073/1073 [==============================] - 1090s 1s/step - loss: 0.7023 - accuracy: 0.7006 - val_loss: 0.6465 - val_accuracy: 0.7302\n",
            "Epoch 5/10\n",
            "1073/1073 [==============================] - 1071s 998ms/step - loss: 0.6823 - accuracy: 0.7104 - val_loss: 0.6500 - val_accuracy: 0.7319\n",
            "Epoch 6/10\n",
            "1073/1073 [==============================] - 1080s 1s/step - loss: 0.6706 - accuracy: 0.7175 - val_loss: 0.6238 - val_accuracy: 0.7439\n",
            "Epoch 7/10\n",
            "1073/1073 [==============================] - 1056s 984ms/step - loss: 0.6572 - accuracy: 0.7245 - val_loss: 0.6458 - val_accuracy: 0.7318\n",
            "Epoch 8/10\n",
            "1073/1073 [==============================] - 1057s 985ms/step - loss: 0.6462 - accuracy: 0.7302 - val_loss: 0.6028 - val_accuracy: 0.7490\n",
            "Epoch 9/10\n",
            "1073/1073 [==============================] - 1050s 978ms/step - loss: 0.6401 - accuracy: 0.7333 - val_loss: 0.6030 - val_accuracy: 0.7524\n",
            "Epoch 10/10\n",
            "1073/1073 [==============================] - 1049s 977ms/step - loss: 0.6312 - accuracy: 0.7390 - val_loss: 0.6084 - val_accuracy: 0.7478\n"
          ],
          "name": "stdout"
        }
      ]
    },
    {
      "cell_type": "code",
      "metadata": {
        "colab": {
          "base_uri": "https://localhost:8080/",
          "height": 296
        },
        "id": "TO99odcTb3Gg",
        "outputId": "65bc4398-29aa-4985-8d4f-7350a96c60f4"
      },
      "source": [
        "import matplotlib.pyplot as plt\n",
        "\n",
        "plt.plot(history.history[\"accuracy\"], label=\"train_accuracy\")\n",
        "plt.plot(history.history[\"val_accuracy\"], label=\"val_accuracy\")\n",
        "plt.xlabel(\"Epochs\")\n",
        "plt.ylabel(\"Accuracy\")\n",
        "plt.title(\"Train and Validation Accuracy Over Epochs\", fontsize=14)\n",
        "plt.legend()\n",
        "plt.grid()\n",
        "plt.show()"
      ],
      "execution_count": 20,
      "outputs": [
        {
          "output_type": "display_data",
          "data": {
            "image/png": "[encoded data removed]",
            "text/plain": [
              "<Figure size 432x288 with 1 Axes>"
            ]
          },
          "metadata": {
            "tags": [],
            "needs_background": "light"
          }
        }
      ]
    },
    {
      "cell_type": "code",
      "metadata": {
        "colab": {
          "base_uri": "https://localhost:8080/",
          "height": 296
        },
        "id": "Et5jxgkv70q5",
        "outputId": "a5883807-ad65-4c05-f88f-1e31e80272af"
      },
      "source": [
        "plt.plot(history.history[\"loss\"], label=\"train_loss\")\n",
        "plt.plot(history.history[\"val_loss\"], label=\"val_loss\")\n",
        "plt.xlabel(\"Epochs\")\n",
        "plt.ylabel(\"Loss\")\n",
        "plt.title(\"Train and Validation Losses Over Epochs\", fontsize=14)\n",
        "plt.legend()\n",
        "plt.grid()\n",
        "plt.show()"
      ],
      "execution_count": 21,
      "outputs": [
        {
          "output_type": "display_data",
          "data": {
            "image/png": "[encoded data removed]",
            "text/plain": [
              "<Figure size 432x288 with 1 Axes>"
            ]
          },
          "metadata": {
            "tags": [],
            "needs_background": "light"
          }
        }
      ]
    },
    {
      "cell_type": "code",
      "metadata": {
        "id": "rKA93IK5uqTx"
      },
      "source": [
        "loss, acc = model.evaluate([test[0], test[1]], test[2], batch_size=BATCH_SIZE)\n",
        "print('Test loss / test accuracy = {:.4f} / {:.4f}'.format(loss, acc))"
      ],
      "execution_count": null,
      "outputs": []
    }
  ]
}